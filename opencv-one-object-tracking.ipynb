{
 "cells": [
  {
   "cell_type": "code",
   "execution_count": 1,
   "metadata": {},
   "outputs": [],
   "source": [
    "# import the necessary packages\n",
    "from imutils.video import VideoStream\n",
    "from imutils.video import FPS\n",
    "import argparse\n",
    "import imutils\n",
    "import time\n",
    "import cv2 as cv"
   ]
  },
  {
   "cell_type": "code",
   "execution_count": 10,
   "metadata": {},
   "outputs": [
    {
     "name": "stdout",
     "output_type": "stream",
     "text": [
      "Collecting opencv-contrib-python\n",
      "  Downloading opencv_contrib_python-4.4.0.44-cp38-cp38-manylinux2014_x86_64.whl (55.7 MB)\n",
      "\u001b[K     |████████████████████████████████| 55.7 MB 48 kB/s  eta 0:00:01     |████████████▏                   | 21.2 MB 961 kB/s eta 0:00:36\n",
      "\u001b[?25hRequirement already satisfied: numpy>=1.17.3 in /home/franel/anaconda3/lib/python3.8/site-packages (from opencv-contrib-python) (1.18.5)\n",
      "Installing collected packages: opencv-contrib-python\n",
      "Successfully installed opencv-contrib-python-4.4.0.44\n"
     ]
    }
   ],
   "source": [
    "!pip install opencv-contrib-python"
   ]
  },
  {
   "cell_type": "code",
   "execution_count": null,
   "metadata": {},
   "outputs": [],
   "source": [
    "# construct the argument parser and parse the arguments\n",
    "ap = argparse.ArgumentParser()\n",
    "ap.add_argument(\"-v\", \"--video\", type=str,\n",
    "                help=\"path to input video file\")\n",
    "ap.add_argument(\"-t\", \"--tracker\", type=str, default=\"kcf\",\n",
    "                help=\"OpenCV object tracker type\")\n",
    "args = vars(ap.parse_args())"
   ]
  },
  {
   "cell_type": "code",
   "execution_count": 7,
   "metadata": {},
   "outputs": [],
   "source": [
    "tracker_arg = \"csrt\"\n",
    "video_arg = 0"
   ]
  },
  {
   "cell_type": "code",
   "execution_count": 8,
   "metadata": {},
   "outputs": [
    {
     "name": "stdout",
     "output_type": "stream",
     "text": [
      "4.4.0\n"
     ]
    }
   ],
   "source": [
    "# extract the OpenCV version info\n",
    "(major, minor) = cv.__version__.split(\".\")[:2]\n",
    "print(cv.__version__)\n",
    "\n",
    "# if we are using OpenCV 3.2 OR BEFORE, we can use a special factory\n",
    "# function to create our object tracker\n",
    "if int(major) == 3 and int(minor) < 3:\n",
    "    # tracker = cv.Tracker_create(args[\"tracker\"].upper())\n",
    "    tracker = cv.Tracker_create(tracker_arg.upper())\n",
    "    \n",
    "# otherwise, for OpenCV 3.3 OR NEWER, we need to explicity call the\n",
    "# approrpiate object tracker constructor:\n",
    "else:\n",
    "    # initialize a dictionary that maps strings to their corresponding\n",
    "    # OpenCV object tracker implementations\n",
    "    OPENCV_OBJECT_TRACKERS = {\n",
    "        \"csrt\": cv.TrackerCSRT_create,\n",
    "        \"kcf\": cv.TrackerKCF_create,\n",
    "        \"boosting\": cv.TrackerBoosting_create,\n",
    "        \"mil\": cv.TrackerMIL_create,\n",
    "        \"tld\": cv.TrackerTLD_create,\n",
    "        \"medianflow\": cv.TrackerMedianFlow_create,\n",
    "        \"mosse\": cv.TrackerMOSSE_create\n",
    "    }\n",
    "    \n",
    "    # grab the appropriate object tracker using our dictionary of\n",
    "    # OpenCV object tracker objects\n",
    "    tracker = OPENCV_OBJECT_TRACKERS[tracker_arg]()\n",
    "\n",
    "# initialize the bounding box coordinates of the object we are going\n",
    "# to track\n",
    "initBB = None"
   ]
  },
  {
   "cell_type": "code",
   "execution_count": 11,
   "metadata": {},
   "outputs": [
    {
     "name": "stdout",
     "output_type": "stream",
     "text": [
      "[INFO] starting video stream...\n"
     ]
    }
   ],
   "source": [
    "# if a video path was not supplied, grab the reference to the web cam\n",
    "# if not args.get(\"video\", False):\n",
    "if not video_arg:\n",
    "    print(\"[INFO] starting video stream...\")\n",
    "    vs = VideoStream(src=0).start()\n",
    "    time.sleep(1.0)\n",
    "# otherwise, grab a reference to the video file\n",
    "else:\n",
    "    # vs = cv.VideoCapture(args[\"video\"])\n",
    "    vs = cv.VideoCapture(video_arg)\n",
    "# initialize the FPS throughput estimator\n",
    "fps = None"
   ]
  },
  {
   "cell_type": "code",
   "execution_count": 10,
   "metadata": {},
   "outputs": [],
   "source": [
    "# loop over frames from the video stream\n",
    "while True:\n",
    "    # grab the current frame, then handle if we are using a\n",
    "    # VideoStream or VideoCapture object\n",
    "    frame = vs.read()\n",
    "    \n",
    "    # frame = frame[1] if args.get(\"video\", False) else frame\n",
    "    frame = frame[1] if video_arg else frame\n",
    "    \n",
    "    # check to see if we have reached the end of the stream\n",
    "    if frame is None:\n",
    "        break\n",
    "        \n",
    "    # resize the frame (so we can process it faster) and grab the\n",
    "    # frame dimensions\n",
    "    frame = imutils.resize(frame, width=500)\n",
    "    (H, W) = frame.shape[:2]\n",
    "    \n",
    "    # check to see if we are currently tracking an object\n",
    "    if initBB is not None:\n",
    "        # grab the new bounding box coordinates of the object\n",
    "        (success, box) = tracker.update(frame)\n",
    "        \n",
    "        # check to see if the tracking was a success\n",
    "        if success:\n",
    "            (x, y, w, h) = [int(v) for v in box]\n",
    "            cv.rectangle(frame, (x, y), (x + w, y + h), (0, 255, 0), 2)\n",
    "        \n",
    "        # update the FPS counter\n",
    "        fps.update()\n",
    "        fps.stop()\n",
    "        \n",
    "        # initialize the set of information we'll be displaying on the frame\n",
    "        info = [\n",
    "            # (\"Tracker\", args[\"tracker\"]),\n",
    "            (\"Tracker\", tracker_arg),\n",
    "            (\"Success\", \"Yes\" if success else \"No\"),\n",
    "            (\"FPS\", \"{:.2f}\".format(fps.fps())),\n",
    "        ]\n",
    "        \n",
    "        # loop over the info tuples and draw them on our frame\n",
    "        for (i, (k, v)) in enumerate(info):\n",
    "            text = \"{}: {}\".format(k, v)\n",
    "            cv.putText(frame, text, (10, H - ((i * 20) + 20)),\n",
    "                       cv.FONT_HERSHEY_SIMPLEX, 0.6, (0, 0, 255), 2)\n",
    "            \n",
    "    # show the output frame\n",
    "    cv.imshow(\"Frame\", frame)\n",
    "    key = cv.waitKey(1) & 0xFF\n",
    "    \n",
    "    # if the 's' key is selected, we are going to \"select\" a bounding box to track\n",
    "    if key == ord(\"s\"):\n",
    "        # select the bounding box of the object we want to track (make\n",
    "        # sure you press ENTER or SPACE after selecting the ROI)\n",
    "        initBB = cv.selectROI(\"Frame\", frame, fromCenter=False,\n",
    "                              showCrosshair=True)\n",
    "        \n",
    "        # start OpenCV object tracker using the supplied bounding box\n",
    "        # coordinates, then start the FPS throughput estimator as well\n",
    "        tracker.init(frame, initBB)\n",
    "        fps = FPS().start()\n",
    "        \n",
    "    # if the `q` key was pressed, break from the loop\n",
    "    elif key == ord(\"q\"):\n",
    "        break\n",
    "\n",
    "# if we are using a webcam, release the pointer\n",
    "# if not args.get(\"video\", False):\n",
    "if not video_arg:\n",
    "    vs.stop()\n",
    "\n",
    "# otherwise, release the file pointer\n",
    "else:\n",
    "    vs.release()\n",
    "\n",
    "# close all windows\n",
    "cv.destroyAllWindows()"
   ]
  },
  {
   "cell_type": "code",
   "execution_count": null,
   "metadata": {},
   "outputs": [],
   "source": []
  }
 ],
 "metadata": {
  "kernelspec": {
   "display_name": "Python 3",
   "language": "python",
   "name": "python3"
  },
  "language_info": {
   "codemirror_mode": {
    "name": "ipython",
    "version": 3
   },
   "file_extension": ".py",
   "mimetype": "text/x-python",
   "name": "python",
   "nbconvert_exporter": "python",
   "pygments_lexer": "ipython3",
   "version": "3.8.3"
  }
 },
 "nbformat": 4,
 "nbformat_minor": 4
}
