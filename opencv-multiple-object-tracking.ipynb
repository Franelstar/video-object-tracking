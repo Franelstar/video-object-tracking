{
 "cells": [
  {
   "cell_type": "code",
   "execution_count": 1,
   "metadata": {},
   "outputs": [],
   "source": [
    "# import the necessary packages\n",
    "from imutils.video import VideoStream\n",
    "import argparse\n",
    "import imutils\n",
    "import time\n",
    "import cv2 as cv"
   ]
  },
  {
   "cell_type": "code",
   "execution_count": 2,
   "metadata": {},
   "outputs": [
    {
     "name": "stderr",
     "output_type": "stream",
     "text": [
      "usage: ipykernel_launcher.py [-h] [-v VIDEO] [-t TRACKER]\n",
      "ipykernel_launcher.py: error: unrecognized arguments: -f /home/franel/.local/share/jupyter/runtime/kernel-d86a2b6a-2e2e-4d15-8bd4-f16f48118bef.json\n"
     ]
    },
    {
     "ename": "SystemExit",
     "evalue": "2",
     "output_type": "error",
     "traceback": [
      "An exception has occurred, use %tb to see the full traceback.\n",
      "\u001b[0;31mSystemExit\u001b[0m\u001b[0;31m:\u001b[0m 2\n"
     ]
    },
    {
     "name": "stderr",
     "output_type": "stream",
     "text": [
      "/home/franel/anaconda3/lib/python3.8/site-packages/IPython/core/interactiveshell.py:3351: UserWarning: To exit: use 'exit', 'quit', or Ctrl-D.\n",
      "  warn(\"To exit: use 'exit', 'quit', or Ctrl-D.\", stacklevel=1)\n"
     ]
    }
   ],
   "source": [
    "ap = argparse.ArgumentParser()\n",
    "ap.add_argument(\"-v\", \"--video\", type=str,\n",
    "                help=\"path to input video file\")\n",
    "ap.add_argument(\"-t\", \"--tracker\", type=str, default=\"kcf\",\n",
    "                help=\"OpenCV object tracker type\")\n",
    "args = vars(ap.parse_args())\n"
   ]
  },
  {
   "cell_type": "code",
   "execution_count": 3,
   "metadata": {},
   "outputs": [],
   "source": [
    "video_arg = 'example_02.mp4'\n",
    "tracker_arg = 'kcf'"
   ]
  },
  {
   "cell_type": "code",
   "execution_count": 4,
   "metadata": {},
   "outputs": [],
   "source": [
    "# initialize a dictionary that maps strings to their corresponding\n",
    "# OpenCV object tracker implementations\n",
    "OPENCV_OBJECT_TRACKERS = {\n",
    "    \"csrt\": cv.TrackerCSRT_create,\n",
    "    \"kcf\": cv.TrackerKCF_create,\n",
    "    \"boosting\": cv.TrackerBoosting_create,\n",
    "    \"mil\": cv.TrackerMIL_create,\n",
    "    \"tld\": cv.TrackerTLD_create,\n",
    "    \"medianflow\": cv.TrackerMedianFlow_create,\n",
    "    \"mosse\": cv.TrackerMOSSE_create\n",
    "}\n",
    "# initialize OpenCV's special multi-object tracker\n",
    "trackers = cv.MultiTracker_create()"
   ]
  },
  {
   "cell_type": "code",
   "execution_count": 5,
   "metadata": {},
   "outputs": [],
   "source": [
    "# if a video path was not supplied, grab the reference to the web cam\n",
    "# if not args.get(\"video\", False):\n",
    "if not video_arg:\n",
    "    print(\"[INFO] starting video stream...\")\n",
    "    vs = VideoStream(src=0).start()\n",
    "    time.sleep(1.0)\n",
    "# otherwise, grab a reference to the video file\n",
    "else:\n",
    "    # vs = cv2.VideoCapture(args[\"video\"])\n",
    "    vs = cv.VideoCapture(video_arg)"
   ]
  },
  {
   "cell_type": "code",
   "execution_count": 6,
   "metadata": {},
   "outputs": [],
   "source": [
    "# loop over frames from the video stream\n",
    "while True:\n",
    "    \n",
    "    # grab the current frame, then handle if we are using a\n",
    "    # VideoStream or VideoCapture object\n",
    "    frame = vs.read()\n",
    "    #frame = frame[1] if args.get(\"video\", False) else frame\n",
    "    frame = frame[1] if video_arg else frame\n",
    "\n",
    "    # check to see if we have reached the end of the stream\n",
    "    if frame is None:\n",
    "        break\n",
    "\n",
    "    # resize the frame (so we can process it faster)\n",
    "    frame = imutils.resize(frame, width=600)\n",
    "    \n",
    "    # grab the updated bounding box coordinates (if any) for each\n",
    "    # object that is being tracked\n",
    "    (success, boxes) = trackers.update(frame)\n",
    "    \n",
    "    # loop over the bounding boxes and draw then on the frame\n",
    "    for box in boxes:\n",
    "        (x, y, w, h) = [int(v) for v in box]\n",
    "        cv.rectangle(frame, (x, y), (x + w, y + h), (0, 255, 0), 2)\n",
    "        \n",
    "    # show the output frame\n",
    "    cv.imshow(\"Frame\", frame)\n",
    "    key = cv.waitKey(1) & 0xFF\n",
    "    \n",
    "    # if the 's' key is selected, we are going to \"select\" a bounding\n",
    "    # box to track\n",
    "    if key == ord(\"s\"):\n",
    "        # select the bounding box of the object we want to track (make\n",
    "        # sure you press ENTER or SPACE after selecting the ROI)\n",
    "        box = cv.selectROI(\"Frame\", frame, fromCenter=False,\n",
    "                           showCrosshair=True)\n",
    "        \n",
    "        # create a new object tracker for the bounding box and add it\n",
    "        # to our multi-object tracker\n",
    "        #tracker = OPENCV_OBJECT_TRACKERS[args[\"tracker\"]]()\n",
    "        tracker = OPENCV_OBJECT_TRACKERS[tracker_arg]()\n",
    "        trackers.add(tracker, frame, box)\n",
    "        \n",
    "    # if the `q` key was pressed, break from the loop\n",
    "    elif key == ord(\"q\"):\n",
    "        break\n",
    "\n",
    "# if we are using a webcam, release the pointer\n",
    "# if not args.get(\"video\", False):\n",
    "if not video_arg:\n",
    "    vs.stop()\n",
    "# otherwise, release the file pointer\n",
    "else:\n",
    "    vs.release()\n",
    "\n",
    "# close all windows\n",
    "cv.destroyAllWindows()"
   ]
  },
  {
   "cell_type": "code",
   "execution_count": null,
   "metadata": {},
   "outputs": [],
   "source": []
  }
 ],
 "metadata": {
  "kernelspec": {
   "display_name": "Python 3",
   "language": "python",
   "name": "python3"
  },
  "language_info": {
   "codemirror_mode": {
    "name": "ipython",
    "version": 3
   },
   "file_extension": ".py",
   "mimetype": "text/x-python",
   "name": "python",
   "nbconvert_exporter": "python",
   "pygments_lexer": "ipython3",
   "version": "3.8.3"
  }
 },
 "nbformat": 4,
 "nbformat_minor": 4
}
